{
 "cells": [
  {
   "cell_type": "markdown",
   "id": "73a8b2dc-7263-4ce5-8c64-d944b8f1d754",
   "metadata": {},
   "source": [
    "# TEste notebook"
   ]
  },
  {
   "cell_type": "code",
   "execution_count": 3,
   "id": "4669dfb8-f26f-4db5-916c-9978d51325b1",
   "metadata": {},
   "outputs": [
    {
     "name": "stdout",
     "output_type": "stream",
     "text": [
      "teste\n"
     ]
    }
   ],
   "source": [
    "print('teste')"
   ]
  },
  {
   "cell_type": "code",
   "execution_count": 1,
   "id": "50fd1451-f9a1-44fa-9487-60ebead1b048",
   "metadata": {},
   "outputs": [
    {
     "data": {
      "text/plain": [
       "10"
      ]
     },
     "execution_count": 1,
     "metadata": {},
     "output_type": "execute_result"
    }
   ],
   "source": [
    "5+5"
   ]
  },
  {
   "cell_type": "code",
   "execution_count": 2,
   "id": "f4db0475-8da0-4c81-b560-c5991c44dfaf",
   "metadata": {},
   "outputs": [
    {
     "data": {
      "text/plain": [
       "11"
      ]
     },
     "execution_count": 2,
     "metadata": {},
     "output_type": "execute_result"
    }
   ],
   "source": [
    "10+1"
   ]
  },
  {
   "cell_type": "code",
   "execution_count": 4,
   "id": "7d2039f3-adc6-4795-a14d-e8844eb6397f",
   "metadata": {},
   "outputs": [
    {
     "data": {
      "text/plain": [
       "10"
      ]
     },
     "execution_count": 4,
     "metadata": {},
     "output_type": "execute_result"
    }
   ],
   "source": [
    "5+5"
   ]
  },
  {
   "cell_type": "code",
   "execution_count": null,
   "id": "5a1a69cc-f66f-47f0-a508-5f398fb360ac",
   "metadata": {},
   "outputs": [],
   "source": [
    "10+1"
   ]
  },
  {
   "cell_type": "code",
   "execution_count": null,
   "id": "2b54bb70-ea34-4697-bf23-ba10d258a645",
   "metadata": {},
   "outputs": [],
   "source": [
    "5+5"
   ]
  },
  {
   "cell_type": "code",
   "execution_count": null,
   "id": "cad7efa0-54f4-4f1f-b0b2-b5537f61fdfd",
   "metadata": {},
   "outputs": [],
   "source": []
  }
 ],
 "metadata": {
  "kernelspec": {
   "display_name": "Python 3 (ipykernel)",
   "language": "python",
   "name": "python3"
  },
  "language_info": {
   "codemirror_mode": {
    "name": "ipython",
    "version": 3
   },
   "file_extension": ".py",
   "mimetype": "text/x-python",
   "name": "python",
   "nbconvert_exporter": "python",
   "pygments_lexer": "ipython3",
   "version": "3.11.5"
  }
 },
 "nbformat": 4,
 "nbformat_minor": 5
}
