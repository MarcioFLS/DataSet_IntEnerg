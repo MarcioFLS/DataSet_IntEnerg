{
 "cells": [
  {
   "cell_type": "markdown",
   "id": "340c443a-eac3-4b36-a965-5336c696faac",
   "metadata": {},
   "source": [
    "Tipos de dados em Python\n",
    "- Inteiro\n",
    "- Real\n",
    "- Texto\n",
    "- Booleano"
   ]
  },
  {
   "cell_type": "code",
   "execution_count": 2,
   "id": "4da91b22-8938-4475-9d3e-d832ab821ca0",
   "metadata": {},
   "outputs": [],
   "source": [
    "idade = 30\n",
    "nota = 10.5\n",
    "nome = 'IFRN'\n",
    "valor = True"
   ]
  },
  {
   "cell_type": "markdown",
   "id": "70520e27-2fba-4340-a196-d9a026469c37",
   "metadata": {},
   "source": [
    "Estruturas condicionais\n",
    "IF\n",
    "IF...ELSE\n",
    "ELIF"
   ]
  },
  {
   "cell_type": "code",
   "execution_count": 5,
   "id": "8038d5ed-0770-4a01-b609-b2f37a437475",
   "metadata": {},
   "outputs": [
    {
     "name": "stdout",
     "output_type": "stream",
     "text": [
      "Valor negativo\n"
     ]
    }
   ],
   "source": [
    "valor = 0\n",
    "if valor > 0:\n",
    "    ptint(\"Valor positivo\")\n",
    "else:\n",
    "    print(\"Valor negativo\")"
   ]
  },
  {
   "cell_type": "code",
   "execution_count": 7,
   "id": "eb601be4-3fc7-42bf-8ee1-900eca718d91",
   "metadata": {},
   "outputs": [
    {
     "name": "stdout",
     "output_type": "stream",
     "text": [
      "negativo\n"
     ]
    }
   ],
   "source": [
    "valor = -2\n",
    "if valor > 0:\n",
    "    print(\"positivo\")\n",
    "elif valor == 0:\n",
    "    print(\"zero\")\n",
    "else:\n",
    "    print(\"negativo\")\n",
    "    \n"
   ]
  },
  {
   "cell_type": "markdown",
   "id": "d785e3c8-bb58-49cf-a90a-f6e49f06f2c0",
   "metadata": {},
   "source": [
    "lista de dados (Arrays) \n",
    "- Usa colchetes para agrupar os elementos\n",
    "- Através da lista é possível salvar vários valores em uma única variável "
   ]
  },
  {
   "cell_type": "code",
   "execution_count": 10,
   "id": "958fdab4-d0a2-46d3-864d-62af154f536d",
   "metadata": {},
   "outputs": [
    {
     "name": "stdout",
     "output_type": "stream",
     "text": [
      "Analíse\n"
     ]
    }
   ],
   "source": [
    "idades = [30, 18, 23]\n",
    "notas = [8.5, 7.5]\n",
    "nomes = [\"IFRN\", \"IFPB\", \"IFPE\"]\n",
    "valores = [True, False, False]\n",
    "diversos = [30, 5.3, \"Analíse\", True]\n",
    "\n",
    "print(diversos[2])"
   ]
  },
  {
   "cell_type": "code",
   "execution_count": 13,
   "id": "0b5376d1-04e3-4575-a022-c8ac7fa7443d",
   "metadata": {},
   "outputs": [
    {
     "data": {
      "text/plain": [
       "30"
      ]
     },
     "execution_count": 13,
     "metadata": {},
     "output_type": "execute_result"
    }
   ],
   "source": [
    "'''\n",
    "o jupyter permite a  impressão sem a utilização do print,\n",
    "isto funciona apenas nesta ferramente\n",
    "'''\n",
    "\n",
    "diversos[0]"
   ]
  },
  {
   "cell_type": "code",
   "execution_count": 16,
   "id": "ce4bda68-6ea9-45c2-8684-221e06e79991",
   "metadata": {},
   "outputs": [
    {
     "name": "stdout",
     "output_type": "stream",
     "text": [
      "2\n"
     ]
    }
   ],
   "source": [
    "# O exemplo a seguir possui uma lista dentro de outra lista\n",
    "lista_1 = [5, 3, [2,1]]\n",
    "print(lista_1[2][0])"
   ]
  },
  {
   "cell_type": "code",
   "execution_count": 18,
   "id": "590873fc-2ae4-4392-9611-3cb0a8aa7c06",
   "metadata": {},
   "outputs": [
    {
     "name": "stdout",
     "output_type": "stream",
     "text": [
      "4\n"
     ]
    }
   ],
   "source": [
    "lista_2 = [10, 5, 3,100]\n",
    "print(len(lista_2))"
   ]
  },
  {
   "cell_type": "markdown",
   "id": "7645494b-1b58-4390-9a39-18be5d0a8129",
   "metadata": {},
   "source": [
    "Estrutura de repetição\n",
    "- Se usa for e lista de dados"
   ]
  },
  {
   "cell_type": "code",
   "execution_count": 22,
   "id": "5e74c1d5-f6f4-462b-bbb0-eea00feba27e",
   "metadata": {},
   "outputs": [
    {
     "name": "stdout",
     "output_type": "stream",
     "text": [
      "1\n",
      "2\n",
      "3\n",
      "4\n",
      "5\n"
     ]
    }
   ],
   "source": [
    "for numero in [1, 2, 3, 4, 5]:\n",
    "    print(numero)"
   ]
  },
  {
   "cell_type": "markdown",
   "id": "cbe32dd1-3c5c-4c6d-945e-98c0acd7304e",
   "metadata": {},
   "source": [
    "#A função range serve para gerar uma lista de dados"
   ]
  },
  {
   "cell_type": "code",
   "execution_count": 28,
   "id": "c1b47aa9-a3f6-4f06-8b87-87617d39b37f",
   "metadata": {},
   "outputs": [
    {
     "data": {
      "text/plain": [
       "[0, 1, 2, 3, 4, 5, 6, 7, 8, 9]"
      ]
     },
     "execution_count": 28,
     "metadata": {},
     "output_type": "execute_result"
    }
   ],
   "source": [
    "list(range(10))"
   ]
  },
  {
   "cell_type": "code",
   "execution_count": 29,
   "id": "3ab4c930-d76f-4bc9-9ed1-9999d68c39fc",
   "metadata": {},
   "outputs": [
    {
     "data": {
      "text/plain": [
       "[1, 2, 3, 4, 5, 6, 7, 8, 9]"
      ]
     },
     "execution_count": 29,
     "metadata": {},
     "output_type": "execute_result"
    }
   ],
   "source": [
    "list(range(1,10))"
   ]
  },
  {
   "cell_type": "code",
   "execution_count": 30,
   "id": "b5015fba-33a9-42d6-b02a-72757663e923",
   "metadata": {},
   "outputs": [
    {
     "data": {
      "text/plain": [
       "[1, 3, 5, 7, 9]"
      ]
     },
     "execution_count": 30,
     "metadata": {},
     "output_type": "execute_result"
    }
   ],
   "source": [
    "list(range(1,10,2))"
   ]
  },
  {
   "cell_type": "code",
   "execution_count": 33,
   "id": "1157dd17-b4cb-4107-b5ec-8cc42a100ffb",
   "metadata": {},
   "outputs": [
    {
     "name": "stdout",
     "output_type": "stream",
     "text": [
      "1\n",
      "2\n",
      "3\n",
      "4\n",
      "5\n",
      "6\n",
      "7\n",
      "8\n",
      "9\n",
      "10\n"
     ]
    }
   ],
   "source": [
    "for numero in range(1,11):\n",
    "    print(numero)"
   ]
  },
  {
   "cell_type": "code",
   "execution_count": null,
   "id": "3593ad5d-4af5-4a07-be7a-eea345bb4241",
   "metadata": {},
   "outputs": [],
   "source": []
  }
 ],
 "metadata": {
  "kernelspec": {
   "display_name": "Python 3 (ipykernel)",
   "language": "python",
   "name": "python3"
  },
  "language_info": {
   "codemirror_mode": {
    "name": "ipython",
    "version": 3
   },
   "file_extension": ".py",
   "mimetype": "text/x-python",
   "name": "python",
   "nbconvert_exporter": "python",
   "pygments_lexer": "ipython3",
   "version": "3.11.5"
  }
 },
 "nbformat": 4,
 "nbformat_minor": 5
}
