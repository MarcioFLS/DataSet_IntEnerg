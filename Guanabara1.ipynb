{
 "cells": [
  {
   "cell_type": "markdown",
   "id": "2be29430-3e4c-4f02-b7ba-c0c965a8039b",
   "metadata": {},
   "source": [
    "# Parte 001"
   ]
  },
  {
   "cell_type": "code",
   "execution_count": 2,
   "id": "3e6dbfc4-b440-488c-81a3-4621e6044c95",
   "metadata": {},
   "outputs": [
    {
     "name": "stdout",
     "output_type": "stream",
     "text": [
      "Olá, mundo\n"
     ]
    }
   ],
   "source": [
    "print('Olá, mundo')"
   ]
  },
  {
   "cell_type": "code",
   "execution_count": 3,
   "id": "acd21950-a979-43e2-ba1c-0df6e4f6ca3f",
   "metadata": {},
   "outputs": [
    {
     "name": "stdout",
     "output_type": "stream",
     "text": [
      "Olá, mundo!\n"
     ]
    }
   ],
   "source": [
    "msg = 'Olá, mundo!'\n",
    "print(msg)"
   ]
  },
  {
   "cell_type": "code",
   "execution_count": 4,
   "id": "4b9e6169-9313-4161-8987-fa60ed38bded",
   "metadata": {},
   "outputs": [
    {
     "name": "stdin",
     "output_type": "stream",
     "text": [
      "Digite seu nome furacão\n"
     ]
    },
    {
     "name": "stdout",
     "output_type": "stream",
     "text": [
      "é uma prazer furacão\n"
     ]
    }
   ],
   "source": [
    "nome = input('Digite seu nome')\n",
    "print('é uma prazer', nome)\n"
   ]
  },
  {
   "cell_type": "markdown",
   "id": "de72e06c-9013-4928-b5bf-7dfe6c35874a",
   "metadata": {},
   "source": [
    "# Parte 002"
   ]
  },
  {
   "cell_type": "code",
   "execution_count": 11,
   "id": "d6804e1c-a8a9-4f62-825e-828f8bcfa91d",
   "metadata": {},
   "outputs": [
    {
     "name": "stdin",
     "output_type": "stream",
     "text": [
      "Digite seu nome Falção\n"
     ]
    },
    {
     "name": "stdout",
     "output_type": "stream",
     "text": [
      "É um prazer te conhecer Falção!\n"
     ]
    }
   ],
   "source": [
    "nome = input('Digite seu nome')\n",
    "print('É um prazer te conhecer {}!' .format(nome))"
   ]
  },
  {
   "cell_type": "code",
   "execution_count": 9,
   "id": "b0974e13-06f3-4c94-b9e0-8812e54671f0",
   "metadata": {},
   "outputs": [
    {
     "name": "stdin",
     "output_type": "stream",
     "text": [
      "Digite um número 6\n",
      "Digite um número 3\n",
      "Digite um número 2\n"
     ]
    },
    {
     "name": "stdout",
     "output_type": "stream",
     "text": [
      "A soma dos números é 11\n"
     ]
    }
   ],
   "source": [
    "n1 = int(input('Digite um número'))\n",
    "n2 = int(input('Digite um número'))\n",
    "n3 = int(input('Digite um número'))\n",
    "s = (n1 + n2 + n3)\n",
    "print('A soma dos números é {}' .format(s))\n"
   ]
  },
  {
   "cell_type": "code",
   "execution_count": 7,
   "id": "7fe2188d-c4ef-4bb4-890a-dde4df31b93e",
   "metadata": {},
   "outputs": [
    {
     "name": "stdin",
     "output_type": "stream",
     "text": [
      "Dite um número 3\n"
     ]
    },
    {
     "name": "stdout",
     "output_type": "stream",
     "text": [
      "<class 'str'>\n"
     ]
    }
   ],
   "source": [
    "n1 = input('Dite um número')\n",
    "print(type(n1))"
   ]
  },
  {
   "cell_type": "code",
   "execution_count": 3,
   "id": "f797476f-69f5-47e2-863b-23ae44d3cc32",
   "metadata": {},
   "outputs": [
    {
     "name": "stdin",
     "output_type": "stream",
     "text": [
      "Digite um número 5\n",
      "Digite um número 5\n",
      "Digite um número 5\n"
     ]
    },
    {
     "name": "stdout",
     "output_type": "stream",
     "text": [
      "A soma de 5 com 5 mais 5  é igual a 15\n"
     ]
    }
   ],
   "source": [
    "n1 = int(input('Digite um número'))\n",
    "n2 = int(input('Digite um número'))\n",
    "n3 = int(input('Digite um número'))\n",
    "s = (n1 + n2 + n3)\n",
    "print('A soma de {} com {} mais {}  é igual a {}' .format(n1, n2 ,n3, s))"
   ]
  },
  {
   "cell_type": "code",
   "execution_count": 11,
   "id": "71db0985-e791-4fce-ad58-9fea6160c802",
   "metadata": {},
   "outputs": [
    {
     "name": "stdin",
     "output_type": "stream",
     "text": [
      "Digite um valor 6\n",
      "Digite outro valor 5\n"
     ]
    },
    {
     "name": "stdout",
     "output_type": "stream",
     "text": [
      "A soma 6 com 5 é 11\n"
     ]
    }
   ],
   "source": [
    "val1 = int(input('Digite um valor'))\n",
    "val2 = int(input('Digite outro valor'))\n",
    "som = val1 + val2\n",
    "print('A soma {} com {} é {}' .format(val1, val2, som)) "
   ]
  },
  {
   "cell_type": "code",
   "execution_count": 23,
   "id": "baf2db7f-c92a-4ba6-a7ce-b35f5d358072",
   "metadata": {},
   "outputs": [
    {
     "name": "stdin",
     "output_type": "stream",
     "text": [
      "tecle 3\n"
     ]
    },
    {
     "name": "stdout",
     "output_type": "stream",
     "text": [
      "<class 'int'>\n"
     ]
    },
    {
     "name": "stdin",
     "output_type": "stream",
     "text": [
      "tecle  \n"
     ]
    },
    {
     "name": "stdout",
     "output_type": "stream",
     "text": [
      "<class 'bool'>\n"
     ]
    },
    {
     "name": "stdin",
     "output_type": "stream",
     "text": [
      "tecle 6.3\n"
     ]
    },
    {
     "name": "stdout",
     "output_type": "stream",
     "text": [
      "<class 'float'>\n"
     ]
    },
    {
     "name": "stdin",
     "output_type": "stream",
     "text": [
      "tecle 2\n"
     ]
    },
    {
     "name": "stdout",
     "output_type": "stream",
     "text": [
      "<class 'str'>\n"
     ]
    }
   ],
   "source": [
    "n = int(input('tecle'))\n",
    "print(type(n))\n",
    "b = bool(input('tecle'))\n",
    "print(type(b))\n",
    "f = float(input('tecle'))\n",
    "print(type(f))\n",
    "s = str(input('tecle'))\n",
    "print(type(s))\n"
   ]
  },
  {
   "cell_type": "markdown",
   "id": "76a9e271-3a99-4310-93bb-51670789a60a",
   "metadata": {},
   "source": [
    "# Aula6 exercício 3"
   ]
  },
  {
   "cell_type": "code",
   "execution_count": 36,
   "id": "657a309e-f8f7-4362-a821-3237da89c9b8",
   "metadata": {},
   "outputs": [
    {
     "name": "stdin",
     "output_type": "stream",
     "text": [
      "Digite um némro 5\n",
      "Digite outro némro 3\n"
     ]
    },
    {
     "name": "stdout",
     "output_type": "stream",
     "text": [
      "A mosa entre 5 e 3 é igual a 8:\n"
     ]
    }
   ],
   "source": [
    "n1 = int(input('Digite um némro'))\n",
    "n2 = int(input('Digite outro némro'))\n",
    "soma = n1 + n2\n",
    "print('A mosa entre {} e {} é igual a {}:' .format(n1, n2, soma))"
   ]
  },
  {
   "cell_type": "code",
   "execution_count": 9,
   "id": "0d69a8f3-4de7-48ae-a63a-a5464c34bb8e",
   "metadata": {},
   "outputs": [
    {
     "name": "stdin",
     "output_type": "stream",
     "text": [
      "Tecle 3\n"
     ]
    },
    {
     "name": "stdout",
     "output_type": "stream",
     "text": [
      "O tipo primitivo desse valor, é: <class 'str'>\n",
      "Só tem espaçoe: False\n",
      "É um número?: True\n",
      "É alfabético?: False\n",
      "É alfanumérico?: True\n",
      "Está em maiúculas?: False\n",
      "Está em minúsculas?: False\n",
      "Está capitalizada?:, False\n"
     ]
    },
    {
     "data": {
      "text/plain": [
       "'\\nCapitalizada é quando a palavra apresenta ltras maiúsculas e minúsculas ao mesmo tempo\\n\\n'"
      ]
     },
     "execution_count": 9,
     "metadata": {},
     "output_type": "execute_result"
    }
   ],
   "source": [
    "n = input('Tecle')\n",
    "print('O tipo primitivo desse valor, é:', type(n))\n",
    "print('Só tem espaçoe:', n.isspace())\n",
    "print('É um número?:', n.isnumeric())\n",
    "print('É alfabético?:', n.isalpha())\n",
    "print('É alfanumérico?:', n.isalnum())\n",
    "print('Está em maiúculas?:', n.isupper())\n",
    "print('Está em minúsculas?:', n.islower())\n",
    "print('Está capitalizada?:,', n.istitle())\n",
    "'''\n",
    "Capitalizada é quando a palavra apresenta ltras maiúsculas e minúsculas ao mesmo tempo\n",
    "\n",
    "'''\n",
    "\n"
   ]
  },
  {
   "cell_type": "markdown",
   "id": "44a6ba43-551c-4dc0-8fc3-f11972c9223f",
   "metadata": {},
   "source": [
    "## Aula 7 <br> Operadores matemáticos"
   ]
  },
  {
   "cell_type": "code",
   "execution_count": 9,
   "id": "dddd60a9-fc44-411d-b91e-0b0c63b3a05a",
   "metadata": {},
   "outputs": [
    {
     "data": {
      "text/plain": [
       "243"
      ]
     },
     "execution_count": 9,
     "metadata": {},
     "output_type": "execute_result"
    }
   ],
   "source": [
    "'''(5+3)*2'''\n",
    "3*(5+4)**2"
   ]
  },
  {
   "cell_type": "code",
   "execution_count": 27,
   "id": "401ed519-4b7e-44a2-89ea-4575190be119",
   "metadata": {},
   "outputs": [
    {
     "name": "stdin",
     "output_type": "stream",
     "text": [
      "Digite um valor 1\n",
      "Digite outro valor 3\n"
     ]
    },
    {
     "name": "stdout",
     "output_type": "stream",
     "text": [
      "A soma entre eles, é: 4, a subtração , é: -2, a multplicação, é: 3, a divisão, é 0.33, a divisão inteira, é: 0, e  o resto, é: 1 , A potenciação é: 1\n"
     ]
    }
   ],
   "source": [
    "v1 = int(input('Digite um valor'))\n",
    "v2 = int(input('Digite outro valor'))\n",
    "s = v1 + v2\n",
    "sub = v1 - v2\n",
    "m = v1 * v2\n",
    "d = v1 / v2\n",
    "di = v1 // v2\n",
    "r = v1 % v2\n",
    "p = v1 ** v2\n",
    "print('A soma entre eles, é: {}, a subtração , é: {}, a multplicação, é: {}, a divisão, é {:.2f}, a divisão inteira, é: {},'\n",
    "' e  o resto, é: {}' .format(s, sub, m, d, di, r), end = ' ')\n",
    "print(', A potenciação é: {}' .format(p))"
   ]
  },
  {
   "cell_type": "markdown",
   "id": "45749343-6ea1-4d8f-b850-b3d03e861077",
   "metadata": {},
   "source": [
    "## Exercicio 5\n",
    "### Faça um programa que leia um número inteiro <br> e mostre na tela o seu secessor e antecessor"
   ]
  },
  {
   "cell_type": "code",
   "execution_count": 29,
   "id": "b2c6956a-a979-4d79-98db-f504e0d3e249",
   "metadata": {},
   "outputs": [
    {
     "name": "stdin",
     "output_type": "stream",
     "text": [
      "Digite um número 5\n"
     ]
    },
    {
     "name": "stdout",
     "output_type": "stream",
     "text": [
      "O número é: 5, seu sucessor, é: 4 e seu antecessor, é 6\n"
     ]
    }
   ],
   "source": [
    "num = int(input('Digite um número'))\n",
    "suc = num - 1\n",
    "ant = num + 1\n",
    "print('O número é: {}, seu sucessor, é: {} e seu antecessor, é {}' . format(num, suc, ant))"
   ]
  },
  {
   "cell_type": "markdown",
   "id": "0aa9aae6-f4ef-4cfa-af48-092b83d7a2c4",
   "metadata": {},
   "source": [
    "### Faça um programa qu leia um némero <br>e mostre seu dobre, triplo e raiz quadrada."
   ]
  },
  {
   "cell_type": "code",
   "execution_count": 1,
   "id": "b0bec701-583e-445c-86f3-53f5c609a9ec",
   "metadata": {},
   "outputs": [
    {
     "name": "stdin",
     "output_type": "stream",
     "text": [
      "Digite um némro 81\n"
     ]
    },
    {
     "name": "stdout",
     "output_type": "stream",
     "text": [
      "O número, é: 81, o seu dobro, é 162, o seu triplo, é: 243 e a sua raiz quadrada, é:9.00\n"
     ]
    }
   ],
   "source": [
    "num = int(input('Digite um némro'))\n",
    "dob = num * 2\n",
    "tri = num * 3\n",
    "rq = num ** (1/2)\n",
    "print('O número, é: {}, o seu dobro, é {}, o seu triplo, é: {} e a sua raiz quadrada, é:{:.2f}' .format(num, dob, tri, rq))"
   ]
  },
  {
   "cell_type": "code",
   "execution_count": null,
   "id": "410af579-974f-4386-8fdb-f5952a2a15ea",
   "metadata": {},
   "outputs": [],
   "source": [
    "## Desenvolva um progrma que leia "
   ]
  },
  {
   "cell_type": "code",
   "execution_count": 5,
   "id": "4ae5eac8-ed51-4546-97a0-89212ec59f02",
   "metadata": {},
   "outputs": [
    {
     "name": "stdin",
     "output_type": "stream",
     "text": [
      "Primeira nota 9.6\n",
      "Segunda nota 9.8\n"
     ]
    },
    {
     "name": "stdout",
     "output_type": "stream",
     "text": [
      "A média do aluno, é: 9.7\n"
     ]
    }
   ],
   "source": [
    "not1 = float(input('Primeira nota'))\n",
    "not2 = float(input('Segunda nota'))\n",
    "med = (not1 + not2) / 2\n",
    "print('A média do aluno, é:', med)"
   ]
  },
  {
   "cell_type": "code",
   "execution_count": 8,
   "id": "faa44e76-e429-431c-b850-c293ff66b2fc",
   "metadata": {},
   "outputs": [
    {
     "name": "stdin",
     "output_type": "stream",
     "text": [
      "Digite a medida em metros 1\n"
     ]
    },
    {
     "name": "stdout",
     "output_type": "stream",
     "text": [
      "1.0 Metros\n",
      "100.0 Centimtros\n",
      "1000.0 Milímetros\n"
     ]
    }
   ],
   "source": [
    "met = float(input('Digite a medida em metros'))\n",
    "cen = met * 100\n",
    "mil = met * 1000\n",
    "print(met, 'Metros')\n",
    "print(cen, 'Centimtros')\n",
    "print(mil, 'Milímetros')"
   ]
  },
  {
   "cell_type": "code",
   "execution_count": 18,
   "id": "e31b2102-dcd4-4f28-b68d-623c96fe8b41",
   "metadata": {},
   "outputs": [
    {
     "name": "stdin",
     "output_type": "stream",
     "text": [
      "Digite um número para ver sua tabuaba 2\n"
     ]
    },
    {
     "name": "stdout",
     "output_type": "stream",
     "text": [
      "num x 0 =  0 num x 1 =  2 num x 2 =  4 num x 3 =  6 num x 4 =  8 num x 5 =  10 num x 6 =  12 num x 7 =  14 num x 8 =  16 num x 9 =  18 num x 10 =  20\n"
     ]
    }
   ],
   "source": [
    "num = int(input('Digite um número para ver sua tabuaba'))\n",
    "print('num x 0 = ',num * 0,\n",
    "      'num x 1 = ',num * 1,\n",
    "      'num x 2 = ',num * 2,\n",
    "      'num x 3 = ',num * 3,\n",
    "      'num x 4 = ',num * 4,\n",
    "      'num x 5 = ',num * 5,\n",
    "      'num x 6 = ',num * 6,\n",
    "      'num x 7 = ',num * 7,\n",
    "      'num x 8 = ',num * 8,\n",
    "      'num x 9 = ',num * 9,\n",
    "      'num x 10 = ',num * 10,)\n",
    "      \n",
    "\n"
   ]
  },
  {
   "cell_type": "code",
   "execution_count": 18,
   "id": "1b1e097b-c480-491e-82cf-559477eecbdc",
   "metadata": {},
   "outputs": [
    {
     "name": "stdin",
     "output_type": "stream",
     "text": [
      "Qual o seu valor em espécie? 85\n"
     ]
    },
    {
     "name": "stdout",
     "output_type": "stream",
     "text": [
      "R$ 85.0\n",
      "U$ 16.90\n",
      "U$ 16.9\n"
     ]
    }
   ],
   "source": [
    "conv = float(input('Qual o seu valor em espécie?'))\n",
    "print('R$', conv)\n",
    "print(f'U$ {conv / (5.03):,.2f}')\n",
    "print('U$', round(conv / 5.03,2))"
   ]
  },
  {
   "cell_type": "markdown",
   "id": "b7d97a16-4496-4648-9d85-e64cf6969b0a",
   "metadata": {},
   "source": [
    "## Fazer  um programa que leia a altura e a largua de uma parede em metros, <br> calcule a sua área e a quantidade de tinta necessária para pinta-la,<br> sabendo que cada litro de tinta pinta uma área de 2m²."
   ]
  },
  {
   "cell_type": "code",
   "execution_count": 25,
   "id": "3606761f-bc95-4803-a554-f5d6f1512362",
   "metadata": {},
   "outputs": [
    {
     "name": "stdin",
     "output_type": "stream",
     "text": [
      "Qual a altura em metros? 3\n",
      "Qual a largura em metros? 6\n"
     ]
    },
    {
     "name": "stdout",
     "output_type": "stream",
     "text": [
      "Área: 18.0 m²\n",
      "Sua parede consome 9.0 litros de tinta\n"
     ]
    }
   ],
   "source": [
    "metal = float(input('Qual a altura em metros?'))\n",
    "metla = float(input('Qual a largura em metros?'))\n",
    "ar = metal * metla\n",
    "print('Área:', ar, 'm²')\n",
    "print('Sua parede consome', ar/2, 'litros de tinta')"
   ]
  },
  {
   "cell_type": "markdown",
   "id": "012cde82-3e8d-4dab-8091-3c442ae59882",
   "metadata": {},
   "source": [
    "## Fazer um algorítmo que leia o preço de um produto e mostre seu novo preço com 5% de desconto."
   ]
  },
  {
   "cell_type": "code",
   "execution_count": 32,
   "id": "cae4d7e0-c3e1-4faa-8fe0-014361ff151e",
   "metadata": {},
   "outputs": [
    {
     "name": "stdin",
     "output_type": "stream",
     "text": [
      "Informe o preço do produto 253\n"
     ]
    },
    {
     "name": "stdout",
     "output_type": "stream",
     "text": [
      "Preço com 5% de desconto 240.35\n",
      "240.35\n"
     ]
    }
   ],
   "source": [
    "pp = float(input('Informe o preço do produto'))\n",
    "print('Preço com 5% de desconto', pp-(pp*0.05))\n",
    "print(pp-((pp/100)*5))"
   ]
  },
  {
   "cell_type": "markdown",
   "id": "cc0ad50c-0849-4e25-93db-c5219ceb777e",
   "metadata": {},
   "source": [
    "## Fazer um algoritmo que leiao salário de um funcionário e mostre seu novo salário, com 15% de desconto."
   ]
  },
  {
   "cell_type": "code",
   "execution_count": 38,
   "id": "c6c3d79d-c96f-46b8-8083-cb3a39882316",
   "metadata": {},
   "outputs": [
    {
     "name": "stdin",
     "output_type": "stream",
     "text": [
      "Digite seu salário: RS 5840.12\n"
     ]
    },
    {
     "name": "stdout",
     "output_type": "stream",
     "text": [
      "Seu salário com 15% de desconto, é: RS 4964.1\n"
     ]
    }
   ],
   "source": [
    "sal = float(input('Digite seu salário: RS'))\n",
    "print('Seu salário com 15% de desconto, é: RS', round( sal-(sal*0.15),2))"
   ]
  },
  {
   "cell_type": "markdown",
   "id": "54653141-cd09-40aa-a704-f96ed761bc89",
   "metadata": {},
   "source": [
    "## Faça um programa que leia um número inteiro e mostre seu antecessor e seu sucessor."
   ]
  },
  {
   "cell_type": "code",
   "execution_count": 45,
   "id": "2bb16d93-78ed-4b75-b467-49204740bae8",
   "metadata": {},
   "outputs": [
    {
     "name": "stdin",
     "output_type": "stream",
     "text": [
      "Declare um número: 30\n"
     ]
    },
    {
     "name": "stdout",
     "output_type": "stream",
     "text": [
      "Seu antecessor é: 29\n",
      "Seu sucessor, é: 31\n",
      "O valor declarado é 30, seu antecessor é 29 e seu sucessor é 31\n"
     ]
    }
   ],
   "source": [
    "ansu = int(input('Declare um número:'))\n",
    "an = ansu - 1\n",
    "su = ansu + 1\n",
    "print('Seu antecessor é:', an)\n",
    "print('Seu sucessor, é:', su)\n",
    "print('O valor declarado é {}, seu antecessor é {} e seu sucessor é {}'.format(ansu, an, su))"
   ]
  },
  {
   "cell_type": "code",
   "execution_count": 46,
   "id": "7532d86a-129c-4b73-9e60-92b051438487",
   "metadata": {},
   "outputs": [
    {
     "name": "stdin",
     "output_type": "stream",
     "text": [
      "Declare um número: 85\n"
     ]
    },
    {
     "name": "stdout",
     "output_type": "stream",
     "text": [
      "O valor declarado é 85, seu antecessor é 84 e seu sucessor é 86\n"
     ]
    }
   ],
   "source": [
    "ansu = int(input('Declare um número:'))\n",
    "print('O valor declarado é {}, seu antecessor é {} e seu sucessor é {}'.format(ansu, ansu-1, ansu+1))"
   ]
  },
  {
   "cell_type": "markdown",
   "id": "564a0701-285b-44f9-8c99-52d0b4d8c7f9",
   "metadata": {},
   "source": [
    "## Crie um algorítmo que leia um número e mostre seu dobro, triplo e rais quadrada"
   ]
  },
  {
   "cell_type": "code",
   "execution_count": 26,
   "id": "8b6027e4-5c30-4322-8284-10aa3423043b",
   "metadata": {},
   "outputs": [
    {
     "name": "stdin",
     "output_type": "stream",
     "text": [
      "Digite um núero: 6\n"
     ]
    },
    {
     "name": "stdout",
     "output_type": "stream",
     "text": [
      "12.0\n",
      "18.0\n",
      "2.449489742783178\n"
     ]
    }
   ],
   "source": [
    "n = float(input('Digite um núero:'))\n",
    "print(n*2)\n",
    "print(n*3)\n",
    "print(n**(1/2))"
   ]
  },
  {
   "cell_type": "code",
   "execution_count": 21,
   "id": "473e2b7d-50ef-48c4-8131-f19fa8b0097a",
   "metadata": {},
   "outputs": [
    {
     "name": "stdin",
     "output_type": "stream",
     "text": [
      "Digite um número 6\n"
     ]
    },
    {
     "name": "stdout",
     "output_type": "stream",
     "text": [
      "O dorbo de 6 é 12, seu tripli é 18 e sua raiz quadrada é 2.45\n"
     ]
    }
   ],
   "source": [
    "n = int(input('Digite um número'))\n",
    "d = n*2\n",
    "t = n*3\n",
    "r = n**(1/2)\n",
    "print('O dorbo de {} é {}, seu tripli é {} e sua raiz quadrada é {:.2f}' .format(n, d,t,r))"
   ]
  },
  {
   "cell_type": "markdown",
   "id": "eabf3eab-7c67-4e1d-9977-3a37ed5e6737",
   "metadata": {},
   "source": [
    "## Média do aluno"
   ]
  },
  {
   "cell_type": "code",
   "execution_count": 30,
   "id": "c4542b22-955a-4d9d-b7f9-24294ea504d1",
   "metadata": {},
   "outputs": [
    {
     "name": "stdin",
     "output_type": "stream",
     "text": [
      "Digite a primeira nota do aluno 10\n",
      "Digite a segunda nota do aluno 9\n"
     ]
    },
    {
     "name": "stdout",
     "output_type": "stream",
     "text": [
      "Nota do 1ºB do aluno 10.0 e a nota do 2ºB do aluno 9.0, onde seu média é 9.5\n"
     ]
    }
   ],
   "source": [
    "m1 = float(input('Digite a primeira nota do aluno'))\n",
    "m2 = float(input('Digite a segunda nota do aluno'))\n",
    "m = (m1+m2)/2\n",
    "print('Nota do 1ºB do aluno {} e a nota do 2ºB do aluno {}, onde seu média é {}' .format(m1, m2, m))"
   ]
  },
  {
   "cell_type": "code",
   "execution_count": null,
   "id": "54ce708c-307a-4042-893f-9e5cead331dd",
   "metadata": {},
   "outputs": [],
   "source": []
  }
 ],
 "metadata": {
  "kernelspec": {
   "display_name": "Python 3 (ipykernel)",
   "language": "python",
   "name": "python3"
  },
  "language_info": {
   "codemirror_mode": {
    "name": "ipython",
    "version": 3
   },
   "file_extension": ".py",
   "mimetype": "text/x-python",
   "name": "python",
   "nbconvert_exporter": "python",
   "pygments_lexer": "ipython3",
   "version": "3.11.5"
  }
 },
 "nbformat": 4,
 "nbformat_minor": 5
}
