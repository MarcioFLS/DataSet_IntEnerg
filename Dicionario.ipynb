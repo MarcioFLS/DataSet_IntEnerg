{
 "cells": [
  {
   "cell_type": "markdown",
   "id": "24449cde-86cd-4ae8-ac4f-79192d96217b",
   "metadata": {},
   "source": [
    "# Dicionário de dados"
   ]
  },
  {
   "cell_type": "markdown",
   "id": "7b990914-4cb8-43d7-ae1d-e2a0d4a7fe1c",
   "metadata": {},
   "source": [
    "Estrutura de dados que permite armazenar o conceito de dados e valor\n",
    "- Cada posição do dicinário possui uma chave e um vavalorcorrespondente\n",
    "- É criado através de chaves { }"
   ]
  },
  {
   "cell_type": "code",
   "execution_count": null,
   "id": "b4ab05d1-3162-427c-9358-79f56bd7f612",
   "metadata": {},
   "outputs": [],
   "source": [
    "#Criando um dicionário de dados\n",
    "dicionario_1 = {\"chave1\":\"valor\", \"chave1\":\"chave2\"}"
   ]
  },
  {
   "cell_type": "code",
   "execution_count": 3,
   "id": "8adc2362-ec92-4555-9e9a-2b7cbb2c5021",
   "metadata": {},
   "outputs": [],
   "source": [
    "# Forma organizada de representa um dicionário\n",
    "dicionario_1 = {\n",
    "    \"chave1\":\"valor1\", \n",
    "    \"chave2\":\"valor2\"\n",
    "}"
   ]
  },
  {
   "cell_type": "code",
   "execution_count": 4,
   "id": "e8afc835-040d-48c2-81a6-e10cae53da5d",
   "metadata": {},
   "outputs": [],
   "source": [
    "# O dicionário pode ter chaves e valores de diferente tipos\n",
    "dicionario_2 = {\n",
    "    \"nota1\":10,\n",
    "    \"nota2\":20\n",
    "}"
   ]
  },
  {
   "cell_type": "code",
   "execution_count": 10,
   "id": "bf8fe31a-cc84-4280-adbb-83ebcb16cb7b",
   "metadata": {},
   "outputs": [
    {
     "name": "stdout",
     "output_type": "stream",
     "text": [
      "valor1\n"
     ]
    }
   ],
   "source": [
    "'''\n",
    "Paraacessar uma valor de um dicionário é necessário utilizar\n",
    "colchetes e a chave\n",
    "'''\n",
    "dicionario_1 = {\n",
    "    \"chave1\": \"valor1\",\n",
    "    \"chave2\": \"valor2\"\n",
    "}\n",
    "\n",
    "print(dicionario_1[\"chave1\"])\n"
   ]
  },
  {
   "cell_type": "code",
   "execution_count": 11,
   "id": "23318312-bc09-4f10-bd11-6941aa0b1b97",
   "metadata": {},
   "outputs": [
    {
     "name": "stdout",
     "output_type": "stream",
     "text": [
      "20\n"
     ]
    }
   ],
   "source": [
    "#Criando um dicionário vazio e adicionando valores manualmente\n",
    "\n",
    "dicionario_3 = {}\n",
    "dicionario_3[\"nota1\"] = 20\n",
    "dicionario_3[\"nota2\"] = 50\n",
    "\n",
    "print(dicionario_3[\"nota1\"])"
   ]
  },
  {
   "cell_type": "code",
   "execution_count": 12,
   "id": "c3bb3533-ab9e-49f9-9283-358ece3d171d",
   "metadata": {},
   "outputs": [
    {
     "ename": "SyntaxError",
     "evalue": "'{' was never closed (2547215752.py, line 2)",
     "output_type": "error",
     "traceback": [
      "\u001b[1;36m  Cell \u001b[1;32mIn[12], line 2\u001b[1;36m\u001b[0m\n\u001b[1;33m    dicinario_1 = {\u001b[0m\n\u001b[1;37m                  ^\u001b[0m\n\u001b[1;31mSyntaxError\u001b[0m\u001b[1;31m:\u001b[0m '{' was never closed\n"
     ]
    }
   ],
   "source": [
    "# Tamanho de uma dicionario\n",
    "dicinario_1 = {\n",
    "    \"chave1\":\"valor\",\n",
    "    \"chave2\";\"valor2\",\n",
    "\"chave3: valor3\""
   ]
  },
  {
   "cell_type": "code",
   "execution_count": 13,
   "id": "e099e038-f9ee-4c21-a940-eee174176bd0",
   "metadata": {},
   "outputs": [],
   "source": [
    "# Zera um dicionário"
   ]
  },
  {
   "cell_type": "code",
   "execution_count": null,
   "id": "7aaf737d-2d19-4995-a497-4684ebaa2dbf",
   "metadata": {},
   "outputs": [],
   "source": [
    "# Acessando todas chaves do dicionário - keys()\n",
    "\n",
    "print(dicionario_.keys()[0])\n",
    "di"
   ]
  }
 ],
 "metadata": {
  "kernelspec": {
   "display_name": "Python 3 (ipykernel)",
   "language": "python",
   "name": "python3"
  },
  "language_info": {
   "codemirror_mode": {
    "name": "ipython",
    "version": 3
   },
   "file_extension": ".py",
   "mimetype": "text/x-python",
   "name": "python",
   "nbconvert_exporter": "python",
   "pygments_lexer": "ipython3",
   "version": "3.11.5"
  }
 },
 "nbformat": 4,
 "nbformat_minor": 5
}
