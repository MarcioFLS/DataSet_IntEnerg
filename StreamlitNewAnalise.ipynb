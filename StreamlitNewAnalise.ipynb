{
 "cells": [
  {
   "cell_type": "code",
   "execution_count": 4,
   "id": "61614874-bc4a-4270-8346-37b0674889e0",
   "metadata": {},
   "outputs": [],
   "source": [
    "import streamlit as st"
   ]
  },
  {
   "cell_type": "code",
   "execution_count": 6,
   "id": "1ccafaba-049d-41bd-b593-2d8230a848e8",
   "metadata": {},
   "outputs": [],
   "source": [
    "st.set_page_config(page_title = 'página Inicial')"
   ]
  },
  {
   "cell_type": "code",
   "execution_count": 8,
   "id": "4eb27ee2-72fe-42f9-9f35-a68f3422cd69",
   "metadata": {},
   "outputs": [
    {
     "name": "stderr",
     "output_type": "stream",
     "text": [
      "2023-12-25 18:16:10.333 \n",
      "  \u001b[33m\u001b[1mWarning:\u001b[0m to view this Streamlit app on a browser, run it with the following\n",
      "  command:\n",
      "\n",
      "    streamlit run C:\\analise\\ambiente\\Lib\\site-packages\\ipykernel_launcher.py [ARGUMENTS]\n"
     ]
    }
   ],
   "source": [
    "st.write('Análise de dadoa')"
   ]
  },
  {
   "cell_type": "code",
   "execution_count": null,
   "id": "0a7b38ba-dcd6-49c9-a4e4-f10d9e6628a3",
   "metadata": {},
   "outputs": [],
   "source": []
  }
 ],
 "metadata": {
  "kernelspec": {
   "display_name": "Python 3 (ipykernel)",
   "language": "python",
   "name": "python3"
  },
  "language_info": {
   "codemirror_mode": {
    "name": "ipython",
    "version": 3
   },
   "file_extension": ".py",
   "mimetype": "text/x-python",
   "name": "python",
   "nbconvert_exporter": "python",
   "pygments_lexer": "ipython3",
   "version": "3.11.5"
  }
 },
 "nbformat": 4,
 "nbformat_minor": 5
}
