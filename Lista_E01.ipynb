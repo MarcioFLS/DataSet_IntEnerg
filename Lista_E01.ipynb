{
 "cells": [
  {
   "cell_type": "markdown",
   "id": "4a5c7e71-67c3-492b-b59e-139b1c5fa680",
   "metadata": {},
   "source": [
    "Questão 1"
   ]
  },
  {
   "cell_type": "markdown",
   "id": "cbb808a2-5479-4c8e-9dee-a7cb3aa93d1e",
   "metadata": {},
   "source": [
    "print( \"É preciso fazer todos os algoritmo \\npara aprender Python\")"
   ]
  },
  {
   "cell_type": "markdown",
   "id": "929d312d-5df8-4c5a-baea-fd7f1d759bcb",
   "metadata": {},
   "source": [
    "Questão 2"
   ]
  },
  {
   "cell_type": "code",
   "execution_count": 26,
   "id": "a703ebbc-be5c-456c-9561-659e6a2d98ff",
   "metadata": {},
   "outputs": [],
   "source": [
    "inst = 'Instituto Federal de Educação, Ciência e Tecnologia do Rio Grande do Norte'"
   ]
  },
  {
   "cell_type": "code",
   "execution_count": 36,
   "id": "3050943e-c02c-4021-8945-2a1ed3f66dd5",
   "metadata": {},
   "outputs": [
    {
     "name": "stdout",
     "output_type": "stream",
     "text": [
      "Instituto Federal de Educação, Ciência e Tecnologia do Rio Grande do Norte\n"
     ]
    }
   ],
   "source": [
    "print(inst)"
   ]
  },
  {
   "cell_type": "markdown",
   "id": "fcf7ad9f-20f4-4659-9885-ddb35ada7738",
   "metadata": {},
   "source": [
    "Questão 3"
   ]
  },
  {
   "cell_type": "code",
   "execution_count": 40,
   "id": "c6e2f85f-d55f-4d7e-bd93-43a236148339",
   "metadata": {},
   "outputs": [],
   "source": [
    "num = 15"
   ]
  },
  {
   "cell_type": "code",
   "execution_count": 43,
   "id": "98b1d7ab-5c77-4885-b61a-1e248d7887ac",
   "metadata": {},
   "outputs": [
    {
     "name": "stdout",
     "output_type": "stream",
     "text": [
      "O número é 15\n"
     ]
    }
   ],
   "source": [
    "print(\"O número é\", num)"
   ]
  },
  {
   "cell_type": "markdown",
   "id": "5a1f494e-93d7-4afe-8ac9-d53b25652cb5",
   "metadata": {},
   "source": [
    "Questão 4"
   ]
  },
  {
   "cell_type": "code",
   "execution_count": 44,
   "id": "7cfc78da-4ca5-477c-93a2-2208cec35078",
   "metadata": {},
   "outputs": [],
   "source": [
    "t = 30"
   ]
  },
  {
   "cell_type": "code",
   "execution_count": 45,
   "id": "85318be7-6022-4a32-a901-07798b5eff2d",
   "metadata": {},
   "outputs": [
    {
     "name": "stdout",
     "output_type": "stream",
     "text": [
      "60\n"
     ]
    }
   ],
   "source": [
    "print(2*t)"
   ]
  },
  {
   "cell_type": "markdown",
   "id": "6d70d3c5-6d7d-436f-8684-ab711415cf01",
   "metadata": {},
   "source": [
    "Questão 5"
   ]
  },
  {
   "cell_type": "code",
   "execution_count": 49,
   "id": "cde83b41-641f-4cfb-b816-432bff0a7a72",
   "metadata": {},
   "outputs": [
    {
     "name": "stdout",
     "output_type": "stream",
     "text": [
      "O resultado da fração é: 2.5\n"
     ]
    }
   ],
   "source": [
    "de = 5\n",
    "nu = 2\n",
    "\n",
    "print('O resultado da fração é:', de/nu)"
   ]
  },
  {
   "cell_type": "markdown",
   "id": "001f6488-6931-40ed-bf32-56951675138c",
   "metadata": {},
   "source": [
    "Questão 6"
   ]
  },
  {
   "cell_type": "code",
   "execution_count": 53,
   "id": "4ae0bd6d-fa97-466f-84e4-16a2ac9fa06b",
   "metadata": {},
   "outputs": [
    {
     "name": "stdout",
     "output_type": "stream",
     "text": [
      "O seu IMC é: 26.47058823529412\n"
     ]
    }
   ],
   "source": [
    "pes = 90\n",
    "alt = 1.7\n",
    "\n",
    "print('O seu IMC é:', pes/(alt*2))"
   ]
  },
  {
   "cell_type": "markdown",
   "id": "8a602f65-dccf-4a42-bf03-7d138b8b6422",
   "metadata": {},
   "source": [
    "Questão 7"
   ]
  },
  {
   "cell_type": "code",
   "execution_count": 56,
   "id": "ad57af3a-6927-415c-9ac1-e77682e042d9",
   "metadata": {},
   "outputs": [
    {
     "name": "stdout",
     "output_type": "stream",
     "text": [
      "A média do aluno é: 8.5\n"
     ]
    }
   ],
   "source": [
    "n1 = 7.5\n",
    "n2 = 8\n",
    "n3 = 10\n",
    "\n",
    "print('A média do aluno é:', (n1+n2+n3)/3)"
   ]
  },
  {
   "cell_type": "markdown",
   "id": "f9474ee3-b486-4a93-89bc-5f5b24f0109b",
   "metadata": {},
   "source": [
    "Questão 8"
   ]
  },
  {
   "cell_type": "code",
   "execution_count": 1,
   "id": "b388f945-5bdb-4f20-8dc9-4c2c4b6110ce",
   "metadata": {},
   "outputs": [
    {
     "name": "stdout",
     "output_type": "stream",
     "text": [
      "7.5\n"
     ]
    }
   ],
   "source": [
    "min = 50\n",
    "por = 15\n",
    "print(50*(por/100))"
   ]
  },
  {
   "cell_type": "markdown",
   "id": "a34f1021-3666-4fc1-8ea6-8e9968cf2fcc",
   "metadata": {},
   "source": [
    "Questão 9"
   ]
  },
  {
   "cell_type": "code",
   "execution_count": 4,
   "id": "8f4cdb05-419c-44cd-8853-9aacee394cf4",
   "metadata": {},
   "outputs": [
    {
     "name": "stdout",
     "output_type": "stream",
     "text": [
      "191.25\n"
     ]
    }
   ],
   "source": [
    "val = 225\n",
    "por = 15\n",
    "print(225-(225*(por/100)))"
   ]
  },
  {
   "cell_type": "markdown",
   "id": "b2591a00-9c22-44a2-ae8f-2a67be936191",
   "metadata": {},
   "source": [
    "Questão 10"
   ]
  },
  {
   "cell_type": "code",
   "execution_count": 6,
   "id": "72bba379-25fc-4e39-9fa4-a82e99e36104",
   "metadata": {},
   "outputs": [
    {
     "name": "stdout",
     "output_type": "stream",
     "text": [
      "Você ganha 4.0 saalários minímos\n"
     ]
    }
   ],
   "source": [
    "salm = 1320\n",
    "salg = 5280\n",
    "print('Você ganha', salg/salm, 'saalários minímos')"
   ]
  },
  {
   "cell_type": "markdown",
   "id": "a872d61b-5010-4c04-821c-caa8834eafb1",
   "metadata": {},
   "source": [
    "Questão 11"
   ]
  },
  {
   "cell_type": "code",
   "execution_count": 6,
   "id": "a6ec43c8-22f6-4179-ad50-d4aee92e2092",
   "metadata": {},
   "outputs": [
    {
     "name": "stdin",
     "output_type": "stream",
     "text": [
      "Nome da instituição em que você estuda: IFRN\n"
     ]
    },
    {
     "name": "stdout",
     "output_type": "stream",
     "text": [
      "IFRN\n"
     ]
    }
   ],
   "source": [
    "inst = input(\"Nome da instituição em que você estuda:\")\n",
    "print(inst)"
   ]
  },
  {
   "cell_type": "code",
   "execution_count": 7,
   "id": "53b83784-186a-4661-a629-5e92937483ed",
   "metadata": {},
   "outputs": [
    {
     "name": "stdin",
     "output_type": "stream",
     "text": [
      "digite um número 15\n"
     ]
    },
    {
     "name": "stdout",
     "output_type": "stream",
     "text": [
      "15\n"
     ]
    }
   ],
   "source": [
    "num = input('digite um número')\n",
    "print(num)"
   ]
  },
  {
   "cell_type": "code",
   "execution_count": 9,
   "id": "333c680d-6a47-43d8-9fd8-629ff14ea0ec",
   "metadata": {},
   "outputs": [
    {
     "name": "stdin",
     "output_type": "stream",
     "text": [
      "Digite um número para saber sur dobro 5\n"
     ]
    },
    {
     "name": "stdout",
     "output_type": "stream",
     "text": [
      "10\n"
     ]
    }
   ],
   "source": [
    "dob = (int(input(\"Digite um número para saber sur dobro\")))\n",
    "print(dob*2)"
   ]
  },
  {
   "cell_type": "code",
   "execution_count": 8,
   "id": "450ee174-dcbd-4019-b718-bd8f6433e4f8",
   "metadata": {},
   "outputs": [
    {
     "name": "stdin",
     "output_type": "stream",
     "text": [
      "Digite o denominador 5\n",
      "Digite o numerador 2\n"
     ]
    },
    {
     "name": "stdout",
     "output_type": "stream",
     "text": [
      "O resultado da fração é: 2.5\n"
     ]
    }
   ],
   "source": [
    "de = (int(input(\"Digite o denominador\")))\n",
    "nu = (int(input(\"Digite o numerador\")))\n",
    "\n",
    "print('O resultado da fração é:', de/nu)"
   ]
  },
  {
   "cell_type": "code",
   "execution_count": 11,
   "id": "e6943a04-862e-47e7-aade-68e30b4a1ad2",
   "metadata": {},
   "outputs": [
    {
     "name": "stdin",
     "output_type": "stream",
     "text": [
      "Digite seu peso, por gentileza 92\n",
      "Digite sua altura, por gentileza 1.7\n"
     ]
    },
    {
     "name": "stdout",
     "output_type": "stream",
     "text": [
      "O seu IMC é: 27.058823529411764\n"
     ]
    }
   ],
   "source": [
    "pes = (float(input(\"Digite seu peso, por gentileza\")))\n",
    "alt = (float(input(\"Digite sua altura, por gentileza\")))\n",
    "\n",
    "print('O seu IMC é:', pes/(alt*2))"
   ]
  },
  {
   "cell_type": "code",
   "execution_count": 14,
   "id": "16052774-6b71-4a1e-9972-3959934c7c95",
   "metadata": {},
   "outputs": [
    {
     "name": "stdin",
     "output_type": "stream",
     "text": [
      "Digite a primeira 9.5\n",
      "Digite a segunda nota 6\n",
      "Digite a terceira nota 5\n"
     ]
    },
    {
     "name": "stdout",
     "output_type": "stream",
     "text": [
      "A média é: 6.8\n"
     ]
    }
   ],
   "source": [
    "n1 = (float(input('Digite a primeira')))\n",
    "n2 = (float(input('Digite a segunda nota')))\n",
    "n3 = (float(input('Digite a terceira nota')))\n",
    "\n",
    "med = (n1 + n2 + n3)/3\n",
    "\n",
    "print('A média é:', round( med, 1))"
   ]
  },
  {
   "cell_type": "code",
   "execution_count": 6,
   "id": "d8f5a116-51b0-4167-b1aa-3d4bb421a1a6",
   "metadata": {},
   "outputs": [
    {
     "name": "stdin",
     "output_type": "stream",
     "text": [
      "Digite um valor:  50\n"
     ]
    },
    {
     "name": "stdout",
     "output_type": "stream",
     "text": [
      "Os 15% do valor digitado, é: 7.5\n"
     ]
    }
   ],
   "source": [
    "val = (int(input('Digite um valor: ')))\n",
    "validade = val*0.15\n",
    "print('Os 15% do valor digitado, é:', validade)\n"
   ]
  },
  {
   "cell_type": "code",
   "execution_count": 9,
   "id": "335eef19-e04c-4ece-ad0b-cd3c2603bf38",
   "metadata": {},
   "outputs": [
    {
     "name": "stdin",
     "output_type": "stream",
     "text": [
      "Insira o valor do produto 50\n"
     ]
    },
    {
     "name": "stdout",
     "output_type": "stream",
     "text": [
      "o valor do produto com os 15% de desconte, é: 42.5\n"
     ]
    }
   ],
   "source": [
    "pro = (int(input('Insira o valor do produto')))\n",
    "des = pro-(pro*0.15)\n",
    "print('o valor do produto com os 15% de desconte, é:', des)"
   ]
  },
  {
   "cell_type": "code",
   "execution_count": 18,
   "id": "8965e1a2-e77a-4f09-b9bd-51339ff08685",
   "metadata": {},
   "outputs": [
    {
     "name": "stdin",
     "output_type": "stream",
     "text": [
      "Digite o valor atual: 1320\n",
      "Digite seu salário: 6351.23\n"
     ]
    },
    {
     "name": "stdout",
     "output_type": "stream",
     "text": [
      "Seu salário corresponde a 4.0\n"
     ]
    }
   ],
   "source": [
    "slm = (float(input('Digite o valor atual:')))\n",
    "msl = (float(input('Digite seu salário:')))\n",
    "qut = msl//slm\n",
    "\n",
    "print('Seu salário corresponde a', round(qut, 1), 'salá)\n",
    "                   "
   ]
  },
  {
   "cell_type": "markdown",
   "id": "6bd92201-1d86-48db-9dc1-f35fd6384611",
   "metadata": {},
   "source": [
    "## Operadores condicionais"
   ]
  },
  {
   "cell_type": "code",
   "execution_count": null,
   "id": "6272cc41-21fe-43cc-80e5-ebcdd5ce33bd",
   "metadata": {},
   "outputs": [],
   "source": [
    "vlr = input('Digite um valaor')\n",
    "print("
   ]
  }
 ],
 "metadata": {
  "kernelspec": {
   "display_name": "Python 3 (ipykernel)",
   "language": "python",
   "name": "python3"
  },
  "language_info": {
   "codemirror_mode": {
    "name": "ipython",
    "version": 3
   },
   "file_extension": ".py",
   "mimetype": "text/x-python",
   "name": "python",
   "nbconvert_exporter": "python",
   "pygments_lexer": "ipython3",
   "version": "3.11.5"
  }
 },
 "nbformat": 4,
 "nbformat_minor": 5
}
